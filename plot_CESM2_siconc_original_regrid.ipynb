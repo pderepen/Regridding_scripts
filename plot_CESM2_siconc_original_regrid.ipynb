{
 "cells": [
  {
   "cell_type": "markdown",
   "id": "e1e1b156-a565-4beb-8ee5-e90d231e0dad",
   "metadata": {},
   "source": [
    "# Plot maps of the original CESM2 data as well as the regridded data (done using regrid_CESM2_seaice_to_1x1.ipynb)"
   ]
  },
  {
   "cell_type": "markdown",
   "id": "000362cd-c5cb-47d8-822f-b2220578ed0f",
   "metadata": {},
   "source": [
    "---"
   ]
  },
  {
   "cell_type": "markdown",
   "id": "b15880b9-db14-4f92-a663-7716600d6d03",
   "metadata": {},
   "source": [
    "## Load necessary packages"
   ]
  },
  {
   "cell_type": "code",
   "execution_count": 3,
   "id": "2bd09345-3e3f-40ba-8a3e-07f769be8421",
   "metadata": {},
   "outputs": [],
   "source": [
    "import cartopy.crs as ccrs\n",
    "import cartopy.feature as cfeature\n",
    "import matplotlib.pyplot as plt\n",
    "import matplotlib.ticker as mticker\n",
    "import matplotlib.contour as mcontour\n",
    "from mpl_toolkits.axes_grid1.inset_locator import inset_axes\n",
    "import numpy as np\n",
    "import xarray as xr\n",
    "\n",
    "import geocat.viz.util as gvutil"
   ]
  },
  {
   "cell_type": "markdown",
   "id": "2dd66590-d6d2-4fbc-9113-dba622aa1e9f",
   "metadata": {},
   "source": [
    "## Read in original and regridded data"
   ]
  },
  {
   "cell_type": "code",
   "execution_count": 9,
   "id": "86561385-b5b6-46a0-8ae7-8f75e442803a",
   "metadata": {},
   "outputs": [
    {
     "ename": "ValueError",
     "evalue": "did not find a match in any of xarray's currently installed IO backends ['scipy']. Consider explicitly selecting one of the installed backends via the ``engine`` parameter to xarray.open_dataset(), or installing additional IO dependencies:\nhttp://xarray.pydata.org/en/stable/getting-started-guide/installing.html\nhttp://xarray.pydata.org/en/stable/user-guide/io.html",
     "output_type": "error",
     "traceback": [
      "\u001b[0;31m---------------------------------------------------------------------------\u001b[0m",
      "\u001b[0;31mValueError\u001b[0m                                Traceback (most recent call last)",
      "\u001b[0;32m<ipython-input-9-295d720bd134>\u001b[0m in \u001b[0;36m<module>\u001b[0;34m\u001b[0m\n\u001b[1;32m      1\u001b[0m \u001b[0;31m# Original data\u001b[0m\u001b[0;34m\u001b[0m\u001b[0;34m\u001b[0m\u001b[0;34m\u001b[0m\u001b[0m\n\u001b[1;32m      2\u001b[0m \u001b[0mdirec_og\u001b[0m \u001b[0;34m=\u001b[0m \u001b[0;34m'/Users/pade7652/Google Drive/CUBoulder/Projects/CESM2/Data/CESM2-CMIP6/'\u001b[0m\u001b[0;34m\u001b[0m\u001b[0;34m\u001b[0m\u001b[0m\n\u001b[0;32m----> 3\u001b[0;31m \u001b[0mxdi_og\u001b[0m   \u001b[0;34m=\u001b[0m \u001b[0mxr\u001b[0m\u001b[0;34m.\u001b[0m\u001b[0mopen_dataset\u001b[0m\u001b[0;34m(\u001b[0m\u001b[0mdirec_og\u001b[0m\u001b[0;34m+\u001b[0m\u001b[0;34m'siconc_SImon_CESM2_historical_r1i1p1f1_gn_185001-201412.nc'\u001b[0m\u001b[0;34m,\u001b[0m\u001b[0mchunks\u001b[0m\u001b[0;34m=\u001b[0m\u001b[0;34m{\u001b[0m\u001b[0;34m}\u001b[0m\u001b[0;34m)\u001b[0m \u001b[0;31m# The 'chunks' option above tells xarray to make this a dask array\u001b[0m\u001b[0;34m\u001b[0m\u001b[0;34m\u001b[0m\u001b[0m\n\u001b[0m\u001b[1;32m      4\u001b[0m \u001b[0mprint\u001b[0m\u001b[0;34m(\u001b[0m\u001b[0mxdi_og\u001b[0m\u001b[0;34m)\u001b[0m\u001b[0;34m\u001b[0m\u001b[0;34m\u001b[0m\u001b[0m\n\u001b[1;32m      5\u001b[0m \u001b[0;34m\u001b[0m\u001b[0m\n",
      "\u001b[0;32m~/opt/anaconda3/envs/geocat/lib/python3.7/site-packages/xarray/backends/api.py\u001b[0m in \u001b[0;36mopen_dataset\u001b[0;34m(filename_or_obj, engine, chunks, cache, decode_cf, mask_and_scale, decode_times, decode_timedelta, use_cftime, concat_characters, decode_coords, drop_variables, backend_kwargs, *args, **kwargs)\u001b[0m\n\u001b[1;32m    478\u001b[0m \u001b[0;34m\u001b[0m\u001b[0m\n\u001b[1;32m    479\u001b[0m     \u001b[0;32mif\u001b[0m \u001b[0mengine\u001b[0m \u001b[0;32mis\u001b[0m \u001b[0;32mNone\u001b[0m\u001b[0;34m:\u001b[0m\u001b[0;34m\u001b[0m\u001b[0;34m\u001b[0m\u001b[0m\n\u001b[0;32m--> 480\u001b[0;31m         \u001b[0mengine\u001b[0m \u001b[0;34m=\u001b[0m \u001b[0mplugins\u001b[0m\u001b[0;34m.\u001b[0m\u001b[0mguess_engine\u001b[0m\u001b[0;34m(\u001b[0m\u001b[0mfilename_or_obj\u001b[0m\u001b[0;34m)\u001b[0m\u001b[0;34m\u001b[0m\u001b[0;34m\u001b[0m\u001b[0m\n\u001b[0m\u001b[1;32m    481\u001b[0m \u001b[0;34m\u001b[0m\u001b[0m\n\u001b[1;32m    482\u001b[0m     \u001b[0mbackend\u001b[0m \u001b[0;34m=\u001b[0m \u001b[0mplugins\u001b[0m\u001b[0;34m.\u001b[0m\u001b[0mget_backend\u001b[0m\u001b[0;34m(\u001b[0m\u001b[0mengine\u001b[0m\u001b[0;34m)\u001b[0m\u001b[0;34m\u001b[0m\u001b[0;34m\u001b[0m\u001b[0m\n",
      "\u001b[0;32m~/opt/anaconda3/envs/geocat/lib/python3.7/site-packages/xarray/backends/plugins.py\u001b[0m in \u001b[0;36mguess_engine\u001b[0;34m(store_spec)\u001b[0m\n\u001b[1;32m    110\u001b[0m     \u001b[0;32mif\u001b[0m \u001b[0minstalled\u001b[0m\u001b[0;34m:\u001b[0m\u001b[0;34m\u001b[0m\u001b[0;34m\u001b[0m\u001b[0m\n\u001b[1;32m    111\u001b[0m         raise ValueError(\n\u001b[0;32m--> 112\u001b[0;31m             \u001b[0;34m\"did not find a match in any of xarray's currently installed IO \"\u001b[0m\u001b[0;34m\u001b[0m\u001b[0;34m\u001b[0m\u001b[0m\n\u001b[0m\u001b[1;32m    113\u001b[0m             \u001b[0;34mf\"backends {installed}. Consider explicitly selecting one of the \"\u001b[0m\u001b[0;34m\u001b[0m\u001b[0;34m\u001b[0m\u001b[0m\n\u001b[1;32m    114\u001b[0m             \u001b[0;34m\"installed backends via the ``engine`` parameter to \"\u001b[0m\u001b[0;34m\u001b[0m\u001b[0;34m\u001b[0m\u001b[0m\n",
      "\u001b[0;31mValueError\u001b[0m: did not find a match in any of xarray's currently installed IO backends ['scipy']. Consider explicitly selecting one of the installed backends via the ``engine`` parameter to xarray.open_dataset(), or installing additional IO dependencies:\nhttp://xarray.pydata.org/en/stable/getting-started-guide/installing.html\nhttp://xarray.pydata.org/en/stable/user-guide/io.html"
     ]
    }
   ],
   "source": [
    "# Original data\n",
    "direc_og = '/Users/pade7652/Google Drive/CUBoulder/Projects/CESM2/Data/CESM2-CMIP6/'\n",
    "xdi_og   = xr.open_dataset(direc_og+'siconc_SImon_CESM2_historical_r1i1p1f1_gn_185001-201412.nc',chunks={}) # The 'chunks' option above tells xarray to make this a dask array\n",
    "print(xdi_og)\n",
    "\n",
    "# Regridded data\n",
    "direc_rg = '/Users/pade7652/Google Drive/CUBoulder/Projects/Summer2021_Patricia/Data/'\n",
    "xdi_rg   = xr.open_dataset(direc_rg+'CESM2_siconc_hist_r1i1p1f1_xesmf_rg_1x1.nc')\n",
    "print(xdi_rg)\n",
    "\n",
    "\n",
    "# data0 = ds.T.isel(time=0, drop=True).isel(z_t=0, drop=True)\n",
    "# data1 = ds.T.isel(time=0, drop=True).isel(z_t=5, drop=True)\n",
    "# data2 = ds.S.isel(time=0, drop=True).isel(z_t=0, drop=True)\n",
    "# data3 = ds.S.isel(time=0, drop=True).isel(z_t=3, drop=True)\n",
    "\n",
    "# data0 = gvutil.xr_add_cyclic_longitudes(data0, \"lon_t\")\n",
    "# data1 = gvutil.xr_add_cyclic_longitudes(data1, \"lon_t\")\n",
    "# data2 = gvutil.xr_add_cyclic_longitudes(data2, \"lon_t\")\n",
    "# data3 = gvutil.xr_add_cyclic_longitudes(data3, \"lon_t\")\n",
    "\n",
    "# data = [[data0, data1], [data2, data3]]"
   ]
  },
  {
   "cell_type": "code",
   "execution_count": null,
   "id": "5b92df6d-ea4c-496d-805c-fb041016ec8b",
   "metadata": {},
   "outputs": [],
   "source": []
  }
 ],
 "metadata": {
  "kernelspec": {
   "display_name": "Python 3",
   "language": "python",
   "name": "python3"
  },
  "language_info": {
   "codemirror_mode": {
    "name": "ipython",
    "version": 3
   },
   "file_extension": ".py",
   "mimetype": "text/x-python",
   "name": "python",
   "nbconvert_exporter": "python",
   "pygments_lexer": "ipython3",
   "version": "3.7.10"
  }
 },
 "nbformat": 4,
 "nbformat_minor": 5
}
