{
 "cells": [
  {
   "cell_type": "markdown",
   "id": "e1e1b156-a565-4beb-8ee5-e90d231e0dad",
   "metadata": {},
   "source": [
    "# Plot maps of the original CESM2 data as well as the regridded data (done using regrid_CESM2_seaice_to_1x1.ipynb)"
   ]
  },
  {
   "cell_type": "markdown",
   "id": "000362cd-c5cb-47d8-822f-b2220578ed0f",
   "metadata": {},
   "source": [
    "---"
   ]
  },
  {
   "cell_type": "markdown",
   "id": "b15880b9-db14-4f92-a663-7716600d6d03",
   "metadata": {},
   "source": [
    "## Load necessary packages"
   ]
  },
  {
   "cell_type": "code",
   "execution_count": 2,
   "id": "2bd09345-3e3f-40ba-8a3e-07f769be8421",
   "metadata": {},
   "outputs": [],
   "source": [
    "import cartopy.crs as ccrs\n",
    "import cartopy.feature as cfeature\n",
    "import matplotlib.pyplot as plt\n",
    "import matplotlib.ticker as mticker\n",
    "import matplotlib.contour as mcontour\n",
    "from mpl_toolkits.axes_grid1.inset_locator import inset_axes\n",
    "import numpy as np\n",
    "import xarray as xr\n",
    "\n",
    "#import geocat.viz.util as gvutil"
   ]
  },
  {
   "cell_type": "markdown",
   "id": "2dd66590-d6d2-4fbc-9113-dba622aa1e9f",
   "metadata": {},
   "source": [
    "## Read in original and regridded data"
   ]
  },
  {
   "cell_type": "code",
   "execution_count": 3,
   "id": "86561385-b5b6-46a0-8ae7-8f75e442803a",
   "metadata": {},
   "outputs": [
    {
     "name": "stderr",
     "output_type": "stream",
     "text": [
      "/Users/pade7652/opt/anaconda3/envs/regrid_env/lib/python3.7/site-packages/xarray/conventions.py:520: SerializationWarning: variable 'siconc' has multiple fill values {1e+20, 1e+20}, decoding all values to NaN.\n",
      "  decode_timedelta=decode_timedelta,\n"
     ]
    },
    {
     "name": "stdout",
     "output_type": "stream",
     "text": [
      "<xarray.Dataset>\n",
      "Dimensions:    (d2: 2, ni: 320, nj: 384, nvertices: 4, time: 1980)\n",
      "Coordinates:\n",
      "    lat        (nj, ni) float64 dask.array<chunksize=(384, 320), meta=np.ndarray>\n",
      "    lon        (nj, ni) float64 dask.array<chunksize=(384, 320), meta=np.ndarray>\n",
      "  * ni         (ni) int32 1 2 3 4 5 6 7 8 9 ... 313 314 315 316 317 318 319 320\n",
      "  * nj         (nj) int32 1 2 3 4 5 6 7 8 9 ... 377 378 379 380 381 382 383 384\n",
      "  * time       (time) object 1850-01-15 12:00:00 ... 2014-12-15 12:00:00\n",
      "Dimensions without coordinates: d2, nvertices\n",
      "Data variables:\n",
      "    siconc     (time, nj, ni) float32 dask.array<chunksize=(1980, 384, 320), meta=np.ndarray>\n",
      "    time_bnds  (time, d2) object dask.array<chunksize=(1980, 2), meta=np.ndarray>\n",
      "    lat_bnds   (nj, ni, nvertices) float32 dask.array<chunksize=(384, 320, 4), meta=np.ndarray>\n",
      "    lon_bnds   (nj, ni, nvertices) float32 dask.array<chunksize=(384, 320, 4), meta=np.ndarray>\n",
      "Attributes: (12/45)\n",
      "    Conventions:            CF-1.7 CMIP-6.2\n",
      "    activity_id:            CMIP\n",
      "    case_id:                15\n",
      "    cesm_casename:          b.e21.BHIST.f09_g17.CMIP6-historical.001\n",
      "    contact:                cesm_cmip6@ucar.edu\n",
      "    creation_date:          2019-01-17T00:39:18Z\n",
      "    ...                     ...\n",
      "    sub_experiment:         none\n",
      "    sub_experiment_id:      none\n",
      "    branch_time_in_parent:  219000.0\n",
      "    branch_time_in_child:   674885.0\n",
      "    branch_method:          standard\n",
      "    further_info_url:       https://furtherinfo.es-doc.org/CMIP6.NCAR.CESM2.h...\n",
      "<xarray.Dataset>\n",
      "Dimensions:  (time: 1980, x: 361, y: 179)\n",
      "Coordinates:\n",
      "    lat      (y, x) float64 ...\n",
      "    lon      (y, x) float64 ...\n",
      "  * time     (time) object 1850-01-15 12:00:00 ... 2014-12-15 12:00:00\n",
      "Dimensions without coordinates: x, y\n",
      "Data variables:\n",
      "    siconc   (time, y, x) float64 ...\n",
      "Attributes:\n",
      "    model:        CESM2\n",
      "    Description:  historical siconc r1i1p1f1 regridded onto a rectilinear 1.0...\n"
     ]
    },
    {
     "name": "stderr",
     "output_type": "stream",
     "text": [
      "/Users/pade7652/opt/anaconda3/envs/regrid_env/lib/python3.7/site-packages/xarray/conventions.py:520: SerializationWarning: variable 'siconc' has multiple fill values {1.0000000200408773e+20, 1e+20}, decoding all values to NaN.\n",
      "  decode_timedelta=decode_timedelta,\n"
     ]
    }
   ],
   "source": [
    "# Original data\n",
    "direc_og = '/Users/pade7652/Google Drive/CUBoulder/Projects/CESM2/Data/CESM2-CMIP6/'\n",
    "xdi_og   = xr.open_dataset(direc_og+'siconc_SImon_CESM2_historical_r1i1p1f1_gn_185001-201412.nc',chunks={}) # The 'chunks' option above tells xarray to make this a dask array\n",
    "print(xdi_og)\n",
    "\n",
    "# Regridded data\n",
    "direc_rg = '/Users/pade7652/Google Drive/CUBoulder/Projects/Summer2021_Patricia/Data/'\n",
    "xdi_rg   = xr.open_dataset(direc_rg+'CESM2_siconc_hist_r1i1p1f1_xesmf_rg_1x1.nc')\n",
    "print(xdi_rg)\n",
    "\n",
    "# data0 = ds.T.isel(time=0, drop=True).isel(z_t=0, drop=True)\n",
    "# data1 = ds.T.isel(time=0, drop=True).isel(z_t=5, drop=True)\n",
    "# data2 = ds.S.isel(time=0, drop=True).isel(z_t=0, drop=True)\n",
    "# data3 = ds.S.isel(time=0, drop=True).isel(z_t=3, drop=True)\n",
    "\n",
    "# data0 = gvutil.xr_add_cyclic_longitudes(data0, \"lon_t\")\n",
    "# data1 = gvutil.xr_add_cyclic_longitudes(data1, \"lon_t\")\n",
    "# data2 = gvutil.xr_add_cyclic_longitudes(data2, \"lon_t\")\n",
    "# data3 = gvutil.xr_add_cyclic_longitudes(data3, \"lon_t\")\n",
    "\n",
    "# data = [[data0, data1], [data2, data3]]"
   ]
  },
  {
   "cell_type": "code",
   "execution_count": null,
   "id": "5b92df6d-ea4c-496d-805c-fb041016ec8b",
   "metadata": {},
   "outputs": [],
   "source": []
  }
 ],
 "metadata": {
  "kernelspec": {
   "display_name": "Python 3",
   "language": "python",
   "name": "python3"
  },
  "language_info": {
   "codemirror_mode": {
    "name": "ipython",
    "version": 3
   },
   "file_extension": ".py",
   "mimetype": "text/x-python",
   "name": "python",
   "nbconvert_exporter": "python",
   "pygments_lexer": "ipython3",
   "version": "3.7.9"
  }
 },
 "nbformat": 4,
 "nbformat_minor": 5
}
