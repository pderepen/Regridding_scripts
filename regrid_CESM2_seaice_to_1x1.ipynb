{
 "cells": [
  {
   "cell_type": "markdown",
   "metadata": {},
   "source": [
    "# Example script to regrid CESM2 sea ice concentration to a regular 1$^\\circ$x1$^\\circ$ grid using xesmf"
   ]
  },
  {
   "cell_type": "markdown",
   "metadata": {},
   "source": [
    "Start by loading appropriate packages"
   ]
  },
  {
   "cell_type": "code",
   "execution_count": 1,
   "metadata": {},
   "outputs": [],
   "source": [
    "import xarray as xr\n",
    "import numpy as np\n",
    "import xesmf as xe"
   ]
  },
  {
   "cell_type": "markdown",
   "metadata": {},
   "source": [
    "Get historical sea ice concentration data from CESM2 for member r1i1p1f1"
   ]
  },
  {
   "cell_type": "code",
   "execution_count": 3,
   "metadata": {},
   "outputs": [
    {
     "name": "stdout",
     "output_type": "stream",
     "text": [
      "<xarray.Dataset>\n",
      "Dimensions:    (d2: 2, ni: 320, nj: 384, nvertices: 4, time: 1980)\n",
      "Coordinates:\n",
      "    lat        (nj, ni) float64 dask.array<chunksize=(384, 320), meta=np.ndarray>\n",
      "    lon        (nj, ni) float64 dask.array<chunksize=(384, 320), meta=np.ndarray>\n",
      "  * ni         (ni) int32 1 2 3 4 5 6 7 8 9 ... 313 314 315 316 317 318 319 320\n",
      "  * nj         (nj) int32 1 2 3 4 5 6 7 8 9 ... 377 378 379 380 381 382 383 384\n",
      "  * time       (time) object 1850-01-15 12:00:00 ... 2014-12-15 12:00:00\n",
      "Dimensions without coordinates: d2, nvertices\n",
      "Data variables:\n",
      "    siconc     (time, nj, ni) float32 dask.array<chunksize=(1980, 384, 320), meta=np.ndarray>\n",
      "    time_bnds  (time, d2) object dask.array<chunksize=(1980, 2), meta=np.ndarray>\n",
      "    lat_bnds   (nj, ni, nvertices) float32 dask.array<chunksize=(384, 320, 4), meta=np.ndarray>\n",
      "    lon_bnds   (nj, ni, nvertices) float32 dask.array<chunksize=(384, 320, 4), meta=np.ndarray>\n",
      "Attributes: (12/45)\n",
      "    Conventions:            CF-1.7 CMIP-6.2\n",
      "    activity_id:            CMIP\n",
      "    case_id:                15\n",
      "    cesm_casename:          b.e21.BHIST.f09_g17.CMIP6-historical.001\n",
      "    contact:                cesm_cmip6@ucar.edu\n",
      "    creation_date:          2019-01-17T00:39:18Z\n",
      "    ...                     ...\n",
      "    sub_experiment:         none\n",
      "    sub_experiment_id:      none\n",
      "    branch_time_in_parent:  219000.0\n",
      "    branch_time_in_child:   674885.0\n",
      "    branch_method:          standard\n",
      "    further_info_url:       https://furtherinfo.es-doc.org/CMIP6.NCAR.CESM2.h...\n"
     ]
    }
   ],
   "source": [
    "direc_i = '/Users/pade7652/Google Drive/CUBoulder/Projects/CESM2/Data/CESM2-CMIP6/' # Change to match the directory where your data is found\n",
    "xdi = xr.open_dataset(direc_i+'siconc_SImon_CESM2_historical_r1i1p1f1_gn_185001-201412.nc',chunks={}) # The 'chunks' option above tells xarray to make this a dask array\n",
    "print(xdi)"
   ]
  },
  {
   "cell_type": "markdown",
   "metadata": {},
   "source": [
    "If the coordinate variables are named something different than 'lat' and 'lon', rename them to 'lat' and 'lon', otherwise xesmf has no way of knowing what these are (it can't guess what your model's lat/lon coords are named).\n",
    "It can only recognize coordinates named 'lon' and 'lat'."
   ]
  },
  {
   "cell_type": "code",
   "execution_count": 5,
   "metadata": {},
   "outputs": [],
   "source": [
    "# xdi = xdi.rename({'latitude':'lat','longitude':'lon'})"
   ]
  },
  {
   "cell_type": "markdown",
   "metadata": {},
   "source": [
    "Select the 'siconc' variable. Can also select specific years and/or months at this point."
   ]
  },
  {
   "cell_type": "code",
   "execution_count": 9,
   "metadata": {},
   "outputs": [
    {
     "name": "stdout",
     "output_type": "stream",
     "text": [
      "<xarray.DataArray 'siconc' (time: 1980, nj: 384, ni: 320)>\n",
      "dask.array<open_dataset-49a09dc33c4112a84ad64670f8eb4236siconc, shape=(1980, 384, 320), dtype=float32, chunksize=(1980, 384, 320), chunktype=numpy.ndarray>\n",
      "Coordinates:\n",
      "    lat      (nj, ni) float64 dask.array<chunksize=(384, 320), meta=np.ndarray>\n",
      "    lon      (nj, ni) float64 dask.array<chunksize=(384, 320), meta=np.ndarray>\n",
      "  * ni       (ni) int32 1 2 3 4 5 6 7 8 9 ... 313 314 315 316 317 318 319 320\n",
      "  * nj       (nj) int32 1 2 3 4 5 6 7 8 9 ... 377 378 379 380 381 382 383 384\n",
      "  * time     (time) object 1850-01-15 12:00:00 ... 2014-12-15 12:00:00\n",
      "Attributes: (12/19)\n",
      "    cell_measures:  area: areacello\n",
      "    cell_methods:   area: mean where sea time: mean\n",
      "    comment:        Area fraction of grid cell covered by sea ice\n",
      "    description:    Area fraction of grid cell covered by sea ice\n",
      "    frequency:      mon\n",
      "    id:             siconc\n",
      "    ...             ...\n",
      "    time_label:     time-mean\n",
      "    time_title:     Temporal mean\n",
      "    title:          Sea-ice Area Percentage (Ocean Grid)\n",
      "    type:           real\n",
      "    units:          %\n",
      "    variable_id:    siconc\n"
     ]
    }
   ],
   "source": [
    "sic = xdi['siconc']\n",
    "# sic = xdi['siconc'].sel({'time':slice('1980-01-01','2000-01-01')})\n",
    "print(sic)"
   ]
  },
  {
   "cell_type": "markdown",
   "metadata": {},
   "source": [
    "Define the target grid (the new grid you want your output on)."
   ]
  },
  {
   "cell_type": "code",
   "execution_count": 15,
   "metadata": {},
   "outputs": [],
   "source": [
    "# In this case, we want to regrid to a 1 deg lat x 1 deg lon grid\n",
    "lat = np.arange(-89.0,90.0,1.0) # Do not include 90S and 90N, it won't work because of the singularity at the poles\n",
    "lon = np.arange(0.0,361.0,1.0) # cartopy gets rage-y (i.e. it doesn't work) when plotting\n",
    "lon2d,lat2d = np.meshgrid(lon,lat)\n",
    "target_grid = xr.Dataset({'lat': (['y', 'x'], lat2d),'lon': (['y', 'x'], lon2d)})"
   ]
  },
  {
   "cell_type": "markdown",
   "metadata": {},
   "source": [
    "Set up the regridder:"
   ]
  },
  {
   "cell_type": "code",
   "execution_count": 16,
   "metadata": {},
   "outputs": [
    {
     "ename": "ValueError",
     "evalue": "To reuse weights, you need to provide either filename or weights.",
     "output_type": "error",
     "traceback": [
      "\u001b[0;31m---------------------------------------------------------------------------\u001b[0m",
      "\u001b[0;31mValueError\u001b[0m                                Traceback (most recent call last)",
      "\u001b[0;32m<ipython-input-16-f8304d746761>\u001b[0m in \u001b[0;36m<module>\u001b[0;34m\u001b[0m\n\u001b[1;32m      2\u001b[0m \u001b[0mmethod_list\u001b[0m \u001b[0;34m=\u001b[0m \u001b[0;34m[\u001b[0m\u001b[0;34m'bilinear'\u001b[0m\u001b[0;34m,\u001b[0m \u001b[0;34m'conservative'\u001b[0m\u001b[0;34m,\u001b[0m \u001b[0;34m'nearest_s2d'\u001b[0m\u001b[0;34m,\u001b[0m \u001b[0;34m'nearest_d2s'\u001b[0m\u001b[0;34m,\u001b[0m \u001b[0;34m'patch'\u001b[0m\u001b[0;34m]\u001b[0m\u001b[0;34m\u001b[0m\u001b[0;34m\u001b[0m\u001b[0m\n\u001b[1;32m      3\u001b[0m \u001b[0;31m# NOTE: Once you have the output of this (the weight file), you can set reuse_weights=True so that you don't need to recreate the weight file\u001b[0m\u001b[0;34m\u001b[0m\u001b[0;34m\u001b[0m\u001b[0;34m\u001b[0m\u001b[0m\n\u001b[0;32m----> 4\u001b[0;31m \u001b[0mregridder\u001b[0m \u001b[0;34m=\u001b[0m \u001b[0mxe\u001b[0m\u001b[0;34m.\u001b[0m\u001b[0mRegridder\u001b[0m\u001b[0;34m(\u001b[0m\u001b[0msic\u001b[0m\u001b[0;34m,\u001b[0m \u001b[0mtarget_grid\u001b[0m\u001b[0;34m,\u001b[0m \u001b[0mmethod_list\u001b[0m\u001b[0;34m[\u001b[0m\u001b[0;36m2\u001b[0m\u001b[0;34m]\u001b[0m\u001b[0;34m,\u001b[0m \u001b[0mperiodic\u001b[0m\u001b[0;34m=\u001b[0m\u001b[0;32mTrue\u001b[0m\u001b[0;34m,\u001b[0m \u001b[0mreuse_weights\u001b[0m\u001b[0;34m=\u001b[0m\u001b[0;32mTrue\u001b[0m\u001b[0;34m)\u001b[0m\u001b[0;34m\u001b[0m\u001b[0;34m\u001b[0m\u001b[0m\n\u001b[0m\u001b[1;32m      5\u001b[0m \u001b[0;34m\u001b[0m\u001b[0m\n\u001b[1;32m      6\u001b[0m \u001b[0;31m# Regrid\u001b[0m\u001b[0;34m\u001b[0m\u001b[0;34m\u001b[0m\u001b[0;34m\u001b[0m\u001b[0m\n",
      "\u001b[0;32m~/opt/anaconda3/envs/regrid_env/lib/python3.7/site-packages/xesmf/frontend.py\u001b[0m in \u001b[0;36m__init__\u001b[0;34m(self, ds_in, ds_out, method, locstream_in, locstream_out, periodic, **kwargs)\u001b[0m\n\u001b[1;32m    705\u001b[0m \u001b[0;34m\u001b[0m\u001b[0m\n\u001b[1;32m    706\u001b[0m         \u001b[0;31m# Create the BaseRegridder\u001b[0m\u001b[0;34m\u001b[0m\u001b[0;34m\u001b[0m\u001b[0;34m\u001b[0m\u001b[0m\n\u001b[0;32m--> 707\u001b[0;31m         \u001b[0msuper\u001b[0m\u001b[0;34m(\u001b[0m\u001b[0;34m)\u001b[0m\u001b[0;34m.\u001b[0m\u001b[0m__init__\u001b[0m\u001b[0;34m(\u001b[0m\u001b[0mgrid_in\u001b[0m\u001b[0;34m,\u001b[0m \u001b[0mgrid_out\u001b[0m\u001b[0;34m,\u001b[0m \u001b[0mmethod\u001b[0m\u001b[0;34m,\u001b[0m \u001b[0minput_dims\u001b[0m\u001b[0;34m=\u001b[0m\u001b[0minput_dims\u001b[0m\u001b[0;34m,\u001b[0m \u001b[0;34m**\u001b[0m\u001b[0mkwargs\u001b[0m\u001b[0;34m)\u001b[0m\u001b[0;34m\u001b[0m\u001b[0;34m\u001b[0m\u001b[0m\n\u001b[0m\u001b[1;32m    708\u001b[0m \u001b[0;34m\u001b[0m\u001b[0m\n\u001b[1;32m    709\u001b[0m         \u001b[0;31m# record output grid and metadata\u001b[0m\u001b[0;34m\u001b[0m\u001b[0;34m\u001b[0m\u001b[0;34m\u001b[0m\u001b[0m\n",
      "\u001b[0;32m~/opt/anaconda3/envs/regrid_env/lib/python3.7/site-packages/xesmf/frontend.py\u001b[0m in \u001b[0;36m__init__\u001b[0;34m(self, grid_in, grid_out, method, filename, reuse_weights, extrap_method, extrap_dist_exponent, extrap_num_src_pnts, weights, ignore_degenerate, input_dims)\u001b[0m\n\u001b[1;32m    302\u001b[0m         \u001b[0;31m# some logic about reusing weights with either filename or weights args\u001b[0m\u001b[0;34m\u001b[0m\u001b[0;34m\u001b[0m\u001b[0;34m\u001b[0m\u001b[0m\n\u001b[1;32m    303\u001b[0m         \u001b[0;32mif\u001b[0m \u001b[0mreuse_weights\u001b[0m \u001b[0;32mand\u001b[0m \u001b[0;34m(\u001b[0m\u001b[0mfilename\u001b[0m \u001b[0;32mis\u001b[0m \u001b[0;32mNone\u001b[0m\u001b[0;34m)\u001b[0m \u001b[0;32mand\u001b[0m \u001b[0;34m(\u001b[0m\u001b[0mweights\u001b[0m \u001b[0;32mis\u001b[0m \u001b[0;32mNone\u001b[0m\u001b[0;34m)\u001b[0m\u001b[0;34m:\u001b[0m\u001b[0;34m\u001b[0m\u001b[0;34m\u001b[0m\u001b[0m\n\u001b[0;32m--> 304\u001b[0;31m             \u001b[0;32mraise\u001b[0m \u001b[0mValueError\u001b[0m\u001b[0;34m(\u001b[0m\u001b[0;34m'To reuse weights, you need to provide either filename or weights.'\u001b[0m\u001b[0;34m)\u001b[0m\u001b[0;34m\u001b[0m\u001b[0;34m\u001b[0m\u001b[0m\n\u001b[0m\u001b[1;32m    305\u001b[0m \u001b[0;34m\u001b[0m\u001b[0m\n\u001b[1;32m    306\u001b[0m         \u001b[0;32mif\u001b[0m \u001b[0;32mnot\u001b[0m \u001b[0mreuse_weights\u001b[0m \u001b[0;32mand\u001b[0m \u001b[0mweights\u001b[0m \u001b[0;32mis\u001b[0m \u001b[0;32mNone\u001b[0m\u001b[0;34m:\u001b[0m\u001b[0;34m\u001b[0m\u001b[0;34m\u001b[0m\u001b[0m\n",
      "\u001b[0;31mValueError\u001b[0m: To reuse weights, you need to provide either filename or weights."
     ]
    }
   ],
   "source": [
    "# Possible regridding algorithms. For a comparison of the different algorithms, check out: https://xesmf.readthedocs.io/en/latest/notebooks/Compare_algorithms.html\n",
    "method_list = ['bilinear', 'conservative', 'nearest_s2d', 'nearest_d2s', 'patch']\n",
    "# NOTE: Once you have the output of this (the weight file), you can set reuse_weights=True so that you don't need to recreate the weight file\n",
    "regridder = xe.Regridder(sic, target_grid, method_list[2], periodic=True, reuse_weights=True)\n",
    "\n",
    "# Regrid\n",
    "sic_rg = regridder(sic)"
   ]
  },
  {
   "cell_type": "code",
   "execution_count": null,
   "metadata": {},
   "outputs": [],
   "source": []
  }
 ],
 "metadata": {
  "kernelspec": {
   "display_name": "Python 3",
   "language": "python",
   "name": "python3"
  },
  "language_info": {
   "codemirror_mode": {
    "name": "ipython",
    "version": 3
   },
   "file_extension": ".py",
   "mimetype": "text/x-python",
   "name": "python",
   "nbconvert_exporter": "python",
   "pygments_lexer": "ipython3",
   "version": "3.7.9"
  }
 },
 "nbformat": 4,
 "nbformat_minor": 4
}
